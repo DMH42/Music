{
 "cells": [
  {
   "cell_type": "markdown",
   "metadata": {},
   "source": [
    "## Experimenting with the library"
   ]
  },
  {
   "cell_type": "code",
   "execution_count": null,
   "metadata": {},
   "outputs": [],
   "source": [
    "import os "
   ]
  },
  {
   "cell_type": "code",
   "execution_count": null,
   "metadata": {},
   "outputs": [],
   "source": [
    "os.chdir(\"../\")"
   ]
  },
  {
   "cell_type": "code",
   "execution_count": null,
   "metadata": {},
   "outputs": [],
   "source": [
    "print(os.getcwd())\n",
    "musicPath = os.getcwd()"
   ]
  },
  {
   "cell_type": "code",
   "execution_count": null,
   "metadata": {},
   "outputs": [],
   "source": [
    "os.chdir(musicPath+\"/code/midicsv/\")"
   ]
  },
  {
   "cell_type": "code",
   "execution_count": null,
   "metadata": {},
   "outputs": [],
   "source": [
    "import subprocess as sp"
   ]
  },
  {
   "cell_type": "code",
   "execution_count": null,
   "metadata": {},
   "outputs": [],
   "source": [
    "outputFile =open(musicPath+'/output/test.csv','w+')\n",
    "errorFile =open('test.csv','w+')"
   ]
  },
  {
   "cell_type": "code",
   "execution_count": null,
   "metadata": {},
   "outputs": [],
   "source": [
    "print(os.getcwd())\n",
    "os.listdir()"
   ]
  },
  {
   "cell_type": "code",
   "execution_count": null,
   "metadata": {},
   "outputs": [],
   "source": [
    "sp.call(['./midicsv', '-v', musicPath+\"/data/maestro/2004/MIDI-Unprocessed_SMF_02_R1_2004_01-05_ORIG_MID--AUDIO_02_R1_2004_05_Track05_wav.midi\"], stdout=outputFile, stderr=errorFile)\n",
    "outputFile.close()\n",
    "errorFile.close()"
   ]
  },
  {
   "cell_type": "markdown",
   "metadata": {},
   "source": [
    "## Feed into Pandas DF"
   ]
  },
  {
   "cell_type": "code",
   "execution_count": 1,
   "metadata": {},
   "outputs": [],
   "source": [
    "import os \n",
    "import subprocess\n",
    "import sys\n",
    "import pandas as pd\n",
    "import math\n",
    "import concurrent.futures\n",
    "import numpy as np\n",
    "os.chdir(\"../\")\n",
    "musicPath = os.getcwd()\n",
    "dataPath = musicPath + \"/data\"\n",
    "\n",
    "os.chdir(musicPath+\"/code/midicsv/\")"
   ]
  },
  {
   "cell_type": "code",
   "execution_count": null,
   "metadata": {},
   "outputs": [],
   "source": []
  },
  {
   "cell_type": "code",
   "execution_count": 2,
   "metadata": {},
   "outputs": [],
   "source": [
    "def midiToCsv(restofPath):\n",
    "    cmd = ['./midicsv', '-v', musicPath+restofPath]\n",
    "    a = subprocess.Popen(cmd, stdout=subprocess.PIPE)\n",
    "\n",
    "    if sys.version_info[0] < 3: \n",
    "        from StringIO import StringIO\n",
    "    else:\n",
    "        from io import StringIO\n",
    "    \n",
    "    b = StringIO(a.communicate()[0].decode('utf-8'))\n",
    "    \n",
    "    df = pd.read_csv(b,names=[\"track\",\"time\", \"type\", \"channel\",\"note\",\"velocity\", \"other\", \"encoded\"], sep=\",\")\n",
    "    return df"
   ]
  },
  {
   "cell_type": "code",
   "execution_count": null,
   "metadata": {},
   "outputs": [],
   "source": [
    "def getQuarterNoteRate(df):\n",
    "#     print(df)\n",
    "    noteRate = df['velocity'].iloc[0]\n",
    "    return noteRate"
   ]
  },
  {
   "cell_type": "code",
   "execution_count": null,
   "metadata": {},
   "outputs": [],
   "source": [
    "def setQuarterNoteTime(df, noteRate, sampleRate):\n",
    "    df['time']=df['time'].apply(lambda x:int(math.floor(x/(noteRate/sampleRate))))\n",
    "    return df"
   ]
  },
  {
   "cell_type": "code",
   "execution_count": null,
   "metadata": {},
   "outputs": [],
   "source": [
    "def removeControlC(df):\n",
    "    indexNames = df[ df['type'].str.contains('Control_c')].index\n",
    "    # Delete these row indexes from dataFrame\n",
    "    out = df.drop(indexNames )\n",
    "    #print(out)\n",
    "    return out"
   ]
  },
  {
   "cell_type": "code",
   "execution_count": null,
   "metadata": {},
   "outputs": [],
   "source": [
    "def getNote(x):\n",
    "    # make easier with: df.name.str.extract(r'([\\d]+)',expand=False)\n",
    "    arr = x.split('|')\n",
    "    return arr[1]\n",
    "\n",
    "def reformatStrings(df):\n",
    "    df['note'] = df['note'].fillna(0).astype(int)\n",
    "    df['encoded'] = df['type']+\"|\"+df['note'].astype(str)+\"|\"+df['velocity'].astype(str)\n",
    "    df['finalEncode'] = df['encoded'].apply(lambda x: \"off\" + getNote(x)  if x.endswith(\"|0.0\") else (\"on\" + getNote(x)))\n",
    "\n",
    "    return df\n"
   ]
  },
  {
   "cell_type": "code",
   "execution_count": null,
   "metadata": {},
   "outputs": [],
   "source": [
    "def trackisOnlyPianolike(reformedRows):\n",
    "    if (len(reformedRows[reformedRows['type'].str.contains('Program_c')]) == 1):\n",
    "#         print(reformedRows.iloc[0])\n",
    "        if (0<=int(reformedRows.iloc[0].channel)<8):\n",
    "            return True\n",
    "        else:\n",
    "            print(\"not Piano Track\")\n",
    "            return False\n",
    "    else:\n",
    "        print(\"changes in program\")\n",
    "        return False\n"
   ]
  },
  {
   "cell_type": "code",
   "execution_count": null,
   "metadata": {},
   "outputs": [],
   "source": [
    "def makeTrueRows(reformedRows):\n",
    "#     print(reformedRows['type'].nunique())\n",
    "    trueRows = reformedRows[reformedRows['type'].str.contains('Note_on_c')]\n",
    "    return trueRows"
   ]
  },
  {
   "cell_type": "code",
   "execution_count": null,
   "metadata": {},
   "outputs": [],
   "source": [
    "def makeNoteString(trueRows):\n",
    "    startTime = trueRows['time'].iloc[0]\n",
    "    prevTime = int(startTime)\n",
    "    outArr = []\n",
    "    for index, row in trueRows.iterrows():\n",
    "        rowTime = int(row['time'])\n",
    "#         print(row)\n",
    "        if prevTime == rowTime:\n",
    "            outArr.append(row['finalEncode'])\n",
    "#             outPut += \" \" + row['finalEncode']\n",
    "        elif prevTime < rowTime:\n",
    "            diffTime = rowTime - 1 - prevTime\n",
    "            outArr.append(\"wait\"+str(diffTime))\n",
    "#             print(row['finalEncode'])\n",
    "            outArr.append(row['finalEncode'])\n",
    "            prevTime = int(rowTime)\n",
    "#             outPut += \" \" + \"wait\"+str(diffTime)\n",
    "#             outPut += \" \" + row['finalEncode']\n",
    "\n",
    "#     print(outArr)\n",
    "    return  \" \".join(outArr)\n",
    "#     for i in range (indexes[2]+2,indexes[3]):\n",
    "#         print( diffTime.loc[i])"
   ]
  },
  {
   "cell_type": "code",
   "execution_count": null,
   "metadata": {},
   "outputs": [],
   "source": [
    "def removeTitle(df):\n",
    "    indexNames = df[ df['type'].str.contains('Title_t')].index\n",
    "    # Delete these row indexes from dataFrame\n",
    "    out = df.drop(indexNames )\n",
    "    #print(out)\n",
    "    return out"
   ]
  },
  {
   "cell_type": "code",
   "execution_count": null,
   "metadata": {},
   "outputs": [],
   "source": [
    "def trainingString(diffTime):\n",
    "    diffTime.index = pd.RangeIndex(len(diffTime.index))\n",
    "    search_values = ['Start_track','End_track']\n",
    "    #TODO deal with multiple tracks?\n",
    "    # diffTime.head(20)\n",
    "    startStops = diffTime[diffTime.type.str.contains('|'.join(search_values ))]\n",
    "    indexes = startStops.index\n",
    "    reformedRows = diffTime.iloc[ indexes[2]+1:indexes[3] , :]\n",
    "#     print(reformedRows)\n",
    "    #make new df with only the note on note off ones\n",
    "    if (trackisOnlyPianolike(reformedRows)):\n",
    "        trueRows = makeTrueRows(reformedRows)\n",
    "    #     print(trueRows.count())\n",
    "        output = makeNoteString(trueRows)\n",
    "        return output"
   ]
  },
  {
   "cell_type": "code",
   "execution_count": null,
   "metadata": {},
   "outputs": [],
   "source": [
    "def processFile(fileName):\n",
    "    df = midiToCsv(fileName)\n",
    "#     print(df.head(20))\n",
    "    noteRate = getQuarterNoteRate(df)\n",
    "    withoutC = removeControlC(df)\n",
    "    withoutT = removeTitle(withoutC)\n",
    "    diffTime = setQuarterNoteTime(withoutT, noteRate, 12)\n",
    "#     diffTime.head(20)\n",
    "\n",
    "    reformatStrings(diffTime)\n",
    "    return trainingString(diffTime)"
   ]
  },
  {
   "cell_type": "code",
   "execution_count": null,
   "metadata": {},
   "outputs": [],
   "source": []
  },
  {
   "cell_type": "code",
   "execution_count": null,
   "metadata": {},
   "outputs": [],
   "source": [
    "def splitData(musicPath):\n",
    "    songList = pd.read_csv (musicPath + '/data/maestro/maestro-v2.0.0.csv')\n",
    "#     print(songList.shape)\n",
    "    train = songList[songList[\"split\"] == 'train']\n",
    "    test = songList[songList[\"split\"] == 'test']\n",
    "    validation = songList[songList[\"split\"] == 'validation']\n",
    "\n",
    "    return train, test, validation"
   ]
  },
  {
   "cell_type": "code",
   "execution_count": null,
   "metadata": {},
   "outputs": [],
   "source": [
    "train, test, validate = splitData(musicPath)"
   ]
  },
  {
   "cell_type": "code",
   "execution_count": null,
   "metadata": {},
   "outputs": [],
   "source": [
    "def encodeFile(subDirectory, fileName):\n",
    "    filePath = subDirectory+fileName\n",
    "    print(filePath)\n",
    "    return processFile(filePath)\n",
    "    "
   ]
  },
  {
   "cell_type": "code",
   "execution_count": null,
   "metadata": {},
   "outputs": [],
   "source": [
    "def cleanFileAndSave(row, folder):\n",
    "    encodedString = encodeFile('/data/maestro/', row['midi_filename'])\n",
    "    withEnding = row['midi_filename'].split(\"/\")[1]\n",
    "    name = withEnding.split(\".\")[0]+\".txt\"\n",
    "    text_file = open(musicPath+'/data/cleanMaestro/'+folder+\"/\"+ name, \"w\")\n",
    "    n = text_file.write(encodedString)\n",
    "    text_file.close()"
   ]
  },
  {
   "cell_type": "code",
   "execution_count": null,
   "metadata": {},
   "outputs": [],
   "source": [
    "def processDF(dataFrame, folder):\n",
    "    for index, row in dataFrame.iterrows():\n",
    "        cleanFileAndSave(row, folder)"
   ]
  },
  {
   "cell_type": "code",
   "execution_count": null,
   "metadata": {},
   "outputs": [],
   "source": [
    "train['midi_filename'].iloc[0]\n",
    "# \"2004/MIDI-Unprocessed_SMF_02_R1_2004_01-05_ORIG_MID--AUDIO_02_R1_2004_05_Track05_wav.midi\""
   ]
  },
  {
   "cell_type": "code",
   "execution_count": null,
   "metadata": {
    "scrolled": true
   },
   "outputs": [],
   "source": [
    "processDF(train, \"train\")"
   ]
  },
  {
   "cell_type": "code",
   "execution_count": null,
   "metadata": {},
   "outputs": [],
   "source": [
    "def parallelProcessDF(dataFrame, folder):\n",
    "    with concurrent.futures.ProcessPoolExecutor() as executor:\n",
    "#         results = [executor.submit(cleanFileAndSave, row, folder) for index, row in dataFrame.iterrows()]\n",
    "        for index, row in dataFrame.iterrows():\n",
    "            executor.submit(cleanFileAndSave, row, folder)\n",
    "#         for f in concurrent.futures.as_completed(results):\n",
    "#             print(f.result())"
   ]
  },
  {
   "cell_type": "code",
   "execution_count": null,
   "metadata": {},
   "outputs": [],
   "source": [
    "parallelProcessDF(train, \"train\")"
   ]
  },
  {
   "cell_type": "code",
   "execution_count": null,
   "metadata": {},
   "outputs": [],
   "source": [
    "processFile(\"/data/maestro/2008/MIDI-Unprocessed_03_R2_2008_01-03_ORIG_MID--AUDIO_03_R2_2008_wav--2.midi\")"
   ]
  },
  {
   "cell_type": "markdown",
   "metadata": {},
   "source": [
    "### Encode DF to MIDI"
   ]
  },
  {
   "cell_type": "code",
   "execution_count": 3,
   "metadata": {},
   "outputs": [],
   "source": [
    "df = midiToCsv(\"/data/maestro/2008/MIDI-Unprocessed_03_R2_2008_01-03_ORIG_MID--AUDIO_03_R2_2008_wav--2.midi\")"
   ]
  },
  {
   "cell_type": "code",
   "execution_count": null,
   "metadata": {},
   "outputs": [],
   "source": []
  },
  {
   "cell_type": "code",
   "execution_count": 4,
   "metadata": {},
   "outputs": [],
   "source": [
    "def dfToCSV(file_name, df):\n",
    "    df.to_csv(dataPath +  file_name, index=False, header=False)"
   ]
  },
  {
   "cell_type": "code",
   "execution_count": 14,
   "metadata": {},
   "outputs": [],
   "source": [
    "def dfToMIDI(file_name,df,out_file):\n",
    "    dfToCSV(\"/misc/simpleCSV\",df)\n",
    "    cmd = ['./csvmidi', '-v', dataPath+file_name, musicPath + out_file]\n",
    "    a = subprocess.Popen(cmd, stdout=subprocess.PIPE)\n",
    "\n",
    "    if sys.version_info[0] < 3: \n",
    "        from StringIO import StringIO\n",
    "    else:\n",
    "        from io import StringIO\n",
    "\n",
    "#     b = StringIO(a.communicate()[0].decode('utf-8'))\n",
    "#     df = pd.read_csv(b,names=[\"track\",\"time\", \"type\", \"channel\",\"note\",\"velocity\", \"other\", \"encoded\"], sep=\",\")\n",
    "#     return df\n",
    "    "
   ]
  },
  {
   "cell_type": "code",
   "execution_count": 8,
   "metadata": {},
   "outputs": [],
   "source": [
    "def removeEverything(df):\n",
    "    indexNames = df[ df['type'].str.contains('Control_c')].index\n",
    "    # Delete these row indexes from dataFrame\n",
    "    df = df.drop(indexNames )\n",
    "    indexNames = df[ df['type'].str.contains('Title_t')].index\n",
    "    # Delete these row indexes from dataFrame\n",
    "    df = df.drop(indexNames )\n",
    "    indexNames = df[ df['type'].str.contains('Note_on_c')].index\n",
    "    # Delete these row indexes from dataFrame\n",
    "    df = df.drop(indexNames )\n",
    "    df = df.drop(columns=['other', 'encoded'])\n",
    "    df = df.replace(np.nan,0)    \n",
    "    return df"
   ]
  },
  {
   "cell_type": "code",
   "execution_count": 11,
   "metadata": {},
   "outputs": [
    {
     "name": "stdout",
     "output_type": "stream",
     "text": [
      "       track    time             type  channel  note  velocity  other  encoded\n",
      "0          0       0           Header        1   2.0     384.0    NaN      NaN\n",
      "1          1       0      Start_track      NaN   NaN       NaN    NaN      NaN\n",
      "2          1       0            Tempo   500000   NaN       NaN    NaN      NaN\n",
      "3          1       0   Time_signature        4   2.0      24.0    8.0      NaN\n",
      "4          1       1        End_track      NaN   NaN       NaN    NaN      NaN\n",
      "5          2       0      Start_track      NaN   NaN       NaN    NaN      NaN\n",
      "7          2       0        Program_c        0   0.0       NaN    NaN      NaN\n",
      "24461      2  587303        End_track      NaN   NaN       NaN    NaN      NaN\n",
      "24462      0       0      End_of_file      NaN   NaN       NaN    NaN      NaN\n"
     ]
    }
   ],
   "source": [
    "out = removeEverything(df)"
   ]
  },
  {
   "cell_type": "code",
   "execution_count": 15,
   "metadata": {},
   "outputs": [],
   "source": [
    "dfToMIDI(\"/misc/simpleCSV\",out,\"/output/firstTry\" )"
   ]
  },
  {
   "cell_type": "code",
   "execution_count": null,
   "metadata": {},
   "outputs": [],
   "source": []
  }
 ],
 "metadata": {
  "kernelspec": {
   "display_name": "Python 3",
   "language": "python",
   "name": "python3"
  },
  "language_info": {
   "codemirror_mode": {
    "name": "ipython",
    "version": 3
   },
   "file_extension": ".py",
   "mimetype": "text/x-python",
   "name": "python",
   "nbconvert_exporter": "python",
   "pygments_lexer": "ipython3",
   "version": "3.7.6"
  }
 },
 "nbformat": 4,
 "nbformat_minor": 4
}
